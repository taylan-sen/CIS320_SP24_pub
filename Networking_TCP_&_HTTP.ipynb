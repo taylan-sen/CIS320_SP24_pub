{
  "nbformat": 4,
  "nbformat_minor": 0,
  "metadata": {
    "colab": {
      "provenance": [],
      "collapsed_sections": [
        "mDtXgFsARzR2"
      ],
      "include_colab_link": true
    },
    "kernelspec": {
      "name": "python3",
      "display_name": "Python 3"
    },
    "language_info": {
      "name": "python"
    }
  },
  "cells": [
    {
      "cell_type": "markdown",
      "metadata": {
        "id": "view-in-github",
        "colab_type": "text"
      },
      "source": [
        "<a href=\"https://colab.research.google.com/github/taylan-sen/CIS320_SP24_pub/blob/main/Networking_TCP_%26_HTTP.ipynb\" target=\"_parent\"><img src=\"https://colab.research.google.com/assets/colab-badge.svg\" alt=\"Open In Colab\"/></a>"
      ]
    },
    {
      "cell_type": "markdown",
      "source": [
        "###In this notebook, we will go over:\n",
        "  1. How to use python jupyter notebooks as a python coding and sharing environment.\n",
        "  1. Show how to make a TCP connection.\n",
        "  1. Use TCP to interact directly with a webserver.\n",
        "\n",
        "Please complete the following activities. It will be the first steps to project 2."
      ],
      "metadata": {
        "id": "mDtXgFsARzR2"
      }
    },
    {
      "cell_type": "markdown",
      "source": [
        "### 1. jupyter notebooks\n",
        "**Google colab** is a google's free virtual machine service implementating a **jupyter** notebook environment. *jupyter notebooks* use a web browser to run run python code, save the results, as well as provide the ability to document code and results nicely.\n",
        "\n",
        "Jupyter notebooks have the .ipynb extension. A notebook is made up of vertically stacked **cells**. Cells can be **code** cells, which contain python code, or **text** cells, which contain text written in **markdown**. **Markdown** is like a *light* version of html, it lets you insert some text formatting and links without getting bogged down with too much html tag-like gobbledygook.\n",
        "\n",
        "A colab jupyter notebook is running in its own google-managed VM (you can see the RAM and disk allocated in the top left of a connected notebook). In order to run a code cell, click on the *play* button in the top left of the cell.\n",
        "\n",
        "In order to launch your own google colab jupyter notebook, log into your google account in a browser and go to:\n",
        "\n",
        "http://colab.research.google.com\n",
        "\n",
        "The first time you use colab, you may have to *enable it*. After opening your own notebook, try making a code cell to print hello world as shown below:"
      ],
      "metadata": {
        "id": "NPvRifEISOKw"
      }
    },
    {
      "cell_type": "code",
      "source": [
        "print(\"Hello world!\")"
      ],
      "metadata": {
        "colab": {
          "base_uri": "https://localhost:8080/"
        },
        "id": "OQGX1p2PTx81",
        "outputId": "488f1719-a14c-43a6-e20a-97cbdbcb1dac"
      },
      "execution_count": null,
      "outputs": [
        {
          "output_type": "stream",
          "name": "stdout",
          "text": [
            "Hello world!\n"
          ]
        }
      ]
    },
    {
      "cell_type": "markdown",
      "source": [
        "Colab jupyter notebooks can also be used to send out and receive transport layer packets using the python socket module. In the code below, we send a message to our infamous mothership. Consider the following socket code we learned about in project 1 running in following cell. What does this tell you about the colab firewall?"
      ],
      "metadata": {
        "id": "DLzM9c7JT7u_"
      }
    },
    {
      "cell_type": "code",
      "execution_count": null,
      "metadata": {
        "colab": {
          "base_uri": "https://localhost:8080/"
        },
        "id": "8i0VXrgYI_ka",
        "outputId": "b0c02904-1320-48e7-9b20-8e1281ed0560"
      },
      "outputs": [
        {
          "output_type": "stream",
          "name": "stdout",
          "text": [
            "\n",
            "\n",
            "             ,-\"\"\"\"\"\"\"-.\n",
            "            / o       o \\ \n",
            "           /   \\     /   \\ \n",
            "          /     )---(     \\ \n",
            "         /     ( 6 6 )     \\ \n",
            "        /       | \" |       \\ \n",
            "       /         )=(         \\ \n",
            "      /   o   .--\"-\"--.   o   \\ \n",
            "     /    I  /  -   -  \\  I    \\ \n",
            " .--(    (_}y/\\       /\\y{_)    )--.\n",
            "(    \".___l\\/__\\_____/__\\/l___.\"    )\n",
            " \\                                 /\n",
            "  \"-._      o O O o O O o      _,-\"\n",
            "      `--Y--.___________.--Y--'\n",
            "         |==.___________.==| \n",
            "         `==.___________.=='\n",
            "\n",
            "MESSAGE RECEIVED... \n",
            "\n"
          ]
        }
      ],
      "source": [
        "import socket\n",
        "\n",
        "s = socket.socket(type=socket.SOCK_DGRAM)\n",
        "s.sendto('hello from colab'.encode(), ('niagaracomputing.org', 12000))\n",
        "rx, addr = s.recvfrom(2048)\n",
        "print(rx.decode())\n"
      ]
    },
    {
      "cell_type": "markdown",
      "source": [
        "Colab notebooks only allow one cell to be running at a time (this was not always the case). Thus, you can't run a listener in one cell and a sender in another."
      ],
      "metadata": {
        "id": "0xJd6K34Y8wV"
      }
    },
    {
      "cell_type": "markdown",
      "source": [
        "## 2. TCP connections\n",
        "\n",
        "Recall that TCP is a *transport layer* protocol that stands for *transmission control protocol*. Unlike UDP, which sends packets (segments) out without setting up a link, TCP is a *connection-based* protocol. In order to establish a connection, on the server we will use the **listen()** function, and on the client we will use the python **connect(_(host, port)_)** function. Recall that a *host* can be either a domain name, or an IP address.\n",
        "\n",
        "On your VM (not in colab) try creating tcpserver.py (you can cut and paste the code from the following cell) and then connect to it from colab using the tcpclient.py cell to send a message back and forth:"
      ],
      "metadata": {
        "id": "6jSvCxoFUTQe"
      }
    },
    {
      "cell_type": "code",
      "source": [
        "#tcpserver.py\n",
        "# copy this to your VM and run\n",
        "# ECHO SERVER\n",
        "import socket\n",
        "\n",
        "#s = socket.socket(type=socket.SOCK_STREAM)\n",
        "with socket.socket(type=socket.SOCK_STREAM) as s:\n",
        "  # SOCK_STREAM means TCP instead of UDP\n",
        "  s.bind(('', 12000))\n",
        "  s.listen(1)  # listen for connection, with a backlog of 1\n",
        "  print('waiting for a connection')\n",
        "  connection, client_address = s.accept()\n",
        "  print('connection made from', client_address)\n",
        "  while True:\n",
        "    data = connection.recv(1024)\n",
        "    if data == None: # same as    if not data:\n",
        "      break\n",
        "    print('msg received:', data.decode())\n",
        "    print('sending it back')\n",
        "    connection.sendall(data)\n",
        "\n",
        "# no s.close() since the with statement takes care of it"
      ],
      "metadata": {
        "id": "N6lhMFYNbG1b"
      },
      "execution_count": null,
      "outputs": []
    },
    {
      "cell_type": "code",
      "source": [
        "#tcpclient.py\n",
        "#fill in your VM's external IP address below and try connecting to it.\n",
        "# ECHO CLIENT\n",
        "import socket\n",
        "\n",
        "HOST = ''    # Replace with your VM server's IP address\n",
        "PORT = 12000 # The same port as used by the server\n",
        "with socket.socket() as s:\n",
        "    s.connect((HOST, PORT))\n",
        "    s.sendall(b'Hello, world')\n",
        "    data = s.recv(1024)\n",
        "print('Received', data.decode())"
      ],
      "metadata": {
        "id": "if8yAkHpc07Z"
      },
      "execution_count": null,
      "outputs": []
    },
    {
      "cell_type": "markdown",
      "source": [
        "## 3. HTTP Protocol (HTTP/1.1)##\n",
        "\n",
        "**HTTP** stands for **hyper text transfer protocol**. It specifies the communication rules that a **webclient** (such as chrome, firefox, or edge) and a **webserver** (such as apache2) use to communicate with each other. Typically, the webclient requests a particular webpage, and the webserver sends the html of the page. Sometimes the webclient will send data back to the webserver, for example, when filling in forms on webpages. Recall that **html** stands for hyper text markup language, a language for creating web pages; it is different than http.\n",
        "\n",
        "### request messages ###\n",
        "**Request messages** are sent by a client to a target server and have a specific syntax that must be used. (Note: HTTP/2 and HTTP/3 have a different representation for HTTP methods and headers.)\n",
        "\n",
        "**Request syntax**\n",
        "A client sends ''request messages'' to the server, which consist of:\n",
        "\n",
        "1. a **request line**, consisting of the case-sensitive request method, a space , the requested URL, another space, the protocol version, a *carriage return* ('\\r' in python), and a *line feed* ('\\n' in python), e.g.:\n",
        "\n",
        "    <code>GET / HTTP/1.1</code>\n",
        "\n",
        "1. a **HTTP request header field** (at least 1 or more headers in case of HTTP/1.1), each consisting of the case-insensitive field name, a colon, optional leading whitespace, the field value, an optional trailing whitespace and ending with a carriage return ('\\r') and a line feed ('\\n'), e.g.:\n",
        "\n",
        "    <code>Host: www.example.com</code>\n",
        "\n",
        "1. an **empty line**, consisting of a carriage return ('\\r') and a line feed ('\\n');\n",
        "1. an optional **HTTP message body**\n",
        "\n",
        "\n",
        "In the HTTP/1.1 protocol, all header fields except <code>Host: hostname</code> are optional.\n",
        "\n",
        "\n",
        "In the following code, we use TCP to connect to a webserver directly (on the required port 80), and receive the html directly from the webserver. Try substituting in your VM's external IP address and downloading your own web page.\n",
        "\n",
        "In python, '\\r' represents a carriage return, and '\\n' represents a line feed.\n",
        "\n",
        "Try modifying the code below to talk to your own VM in which we set up the apache2 webserver with your own webpage.\n",
        "\n",
        "**SUBMISSION: Once you get it working, cut and paste the cell output below into a new document named response.txt. Submit this file in canvas.**\n"
      ],
      "metadata": {
        "id": "sj_NDmy8VmGr"
      }
    },
    {
      "cell_type": "code",
      "source": [
        "import socket\n",
        "import time # for delay\n",
        "\n",
        "s = socket.socket()\n",
        "# replace niagaracomputing.org with the external IP address of your server\n",
        "target = 'niagaracomputing.org'\n",
        "s.connect((target, 80)) # recall 80 is the required http port #\n",
        "\n",
        "# replace niagaracomputing.org with the external IP address of your server\n",
        "\n",
        "s.sendall('GET / HTTP/1.0\\r\\n'.encode())\n",
        "\n",
        "#s.sendall('Host: computeraugmented.com\\r\\n'.encode())\n",
        "# example target = 'computeraugmented.com'\n",
        "#s.sendall('Host: target\\r\\n'.encode()) # DOP! we dont want traget as a str\n",
        "x = 'Host: ' + target + '\\r\\n\\r\\n'\n",
        "s.sendall(x.encode())\n",
        "\n",
        "response = s.recv(2048)\n",
        "print(response.decode())\n",
        "print('complete')\n",
        "s.close()"
      ],
      "metadata": {
        "id": "YpHL0bZ0JwvM",
        "colab": {
          "base_uri": "https://localhost:8080/"
        },
        "outputId": "fd1f7273-4504-49a1-82cc-d5e64e039b25"
      },
      "execution_count": null,
      "outputs": [
        {
          "output_type": "stream",
          "name": "stdout",
          "text": [
            "HTTP/1.1 200 OK\r\n",
            "Date: Fri, 22 Mar 2024 17:10:36 GMT\r\n",
            "Server: Apache/2.4.41 (Ubuntu)\r\n",
            "Last-Modified: Mon, 19 Feb 2024 16:51:04 GMT\r\n",
            "ETag: \"d4-611bee64447c8\"\r\n",
            "Accept-Ranges: bytes\r\n",
            "Content-Length: 212\r\n",
            "Vary: Accept-Encoding\r\n",
            "Connection: close\r\n",
            "Content-Type: text/html\r\n",
            "\r\n",
            "<html>\n",
            "    <head>\n",
            "        <title>niagaracomputing.org</title>\n",
            "    </head>\n",
            "    <body>\n",
            "        <h1>niagaracomputing.org</h1>\n",
            "        <a href=\"mothershiplog.html\">For a good time click here.</a>\n",
            "    </body>\n",
            "</html>\n",
            "\n",
            "complete\n"
          ]
        }
      ]
    },
    {
      "cell_type": "markdown",
      "source": [
        "TCP, HTTP, IP ADDRESS, PORT, LISTEN, 80, REQUEST, HTML, HEADER, DNS"
      ],
      "metadata": {
        "id": "dlvu7tim3v9O"
      }
    }
  ]
}